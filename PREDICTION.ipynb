{
 "cells": [
  {
   "cell_type": "code",
   "execution_count": 19,
   "id": "e72c4708-dc1a-48b6-b5c6-a2ba212890a7",
   "metadata": {},
   "outputs": [],
   "source": [
    "import numpy as np\n",
    "from tensorflow.keras.preprocessing import image\n",
    "from tensorflow.keras.models import load_model\n",
    "\n",
    "# Load your trained model (you only need to do this once)\n",
    "model = load_model('cat_dog_clasific.keras')  # Change this to your actual model path\n",
    "\n",
    "# Class labels\n",
    "CLASS_NAMES = ['Cat', 'Dog']\n",
    "\n",
    "def predict_image_label(img_path):\n",
    "    # Load and preprocess the image\n",
    "    img = image.load_img(img_path, target_size=(128, 128))\n",
    "    img_array = image.img_to_array(img)\n",
    "    img_array = img_array / 255.0  # Normalize to [0, 1]\n",
    "    img_array = np.expand_dims(img_array, axis=0)  # Add batch dimension\n",
    "    #____________________________________________\n",
    "    # Predict\n",
    "    prediction = model.predict(img_array)[0][0]  # Get scalar from [[prob]]\n",
    "     #____________________________________________\n",
    "    # Determine label\n",
    "    label_index = int(round(prediction))  # 0 or 1\n",
    "    label = CLASS_NAMES[label_index]\n",
    "    confidence = prediction if label_index == 1 else 1 - prediction\n",
    "     #____________________________________________\n",
    "    return label, float(confidence)"
   ]
  },
  {
   "cell_type": "code",
   "execution_count": 21,
   "id": "faa1d9d0-f057-47b9-9049-4d9a79c31b5e",
   "metadata": {},
   "outputs": [
    {
     "name": "stdout",
     "output_type": "stream",
     "text": [
      "\u001b[1m1/1\u001b[0m \u001b[32m━━━━━━━━━━━━━━━━━━━━\u001b[0m\u001b[37m\u001b[0m \u001b[1m0s\u001b[0m 24ms/step\n"
     ]
    },
    {
     "data": {
      "text/plain": [
       "('Cat', 0.9999999874780618)"
      ]
     },
     "execution_count": 21,
     "metadata": {},
     "output_type": "execute_result"
    }
   ],
   "source": [
    "predict_image_label(\"tiger.jpg\")"
   ]
  },
  {
   "cell_type": "code",
   "execution_count": null,
   "id": "04f4b948-339b-4345-852c-98c738a79f27",
   "metadata": {},
   "outputs": [],
   "source": []
  }
 ],
 "metadata": {
  "kernelspec": {
   "display_name": "Python [conda env:base] *",
   "language": "python",
   "name": "conda-base-py"
  },
  "language_info": {
   "codemirror_mode": {
    "name": "ipython",
    "version": 3
   },
   "file_extension": ".py",
   "mimetype": "text/x-python",
   "name": "python",
   "nbconvert_exporter": "python",
   "pygments_lexer": "ipython3",
   "version": "3.12.7"
  }
 },
 "nbformat": 4,
 "nbformat_minor": 5
}
